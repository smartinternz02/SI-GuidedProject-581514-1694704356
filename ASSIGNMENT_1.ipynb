{
 "cells": [
  {
   "cell_type": "code",
   "execution_count": 1,
   "id": "b8e3c795",
   "metadata": {},
   "outputs": [
    {
     "name": "stderr",
     "output_type": "stream",
     "text": [
      "C:\\Users\\Khyaaat\\anaconda3\\lib\\site-packages\\numpy\\_distributor_init.py:30: UserWarning: loaded more than 1 DLL from .libs:\n",
      "C:\\Users\\Khyaaat\\anaconda3\\lib\\site-packages\\numpy\\.libs\\libopenblas.EL2C6PLE4ZYW3ECEVIV3OXXGRN2NRFM2.gfortran-win_amd64.dll\n",
      "C:\\Users\\Khyaaat\\anaconda3\\lib\\site-packages\\numpy\\.libs\\libopenblas.WCDJNK7YVMPZQ2ME2ZZHJJRJ3JIKNDB7.gfortran-win_amd64.dll\n",
      "  warnings.warn(\"loaded more than 1 DLL from .libs:\"\n"
     ]
    }
   ],
   "source": [
    "import pandas as pd\n",
    "import numpy as np"
   ]
  },
  {
   "cell_type": "code",
   "execution_count": 13,
   "id": "846d39ec",
   "metadata": {},
   "outputs": [],
   "source": [
    "data = {\n",
    "    'Feature1': np.random.rand(10),\n",
    "    'Feature2': np.random.randint(0, 100, 10),\n",
    "    'Feature3': np.random.choice(['A', 'B', 'C','D'], 10),\n",
    "    'Feature4': np.random.randn(10),\n",
    "    'Feature5': np.random.uniform(1, 10, 10)\n",
    "}\n",
    "\n",
    "df = pd.DataFrame(data)"
   ]
  },
  {
   "cell_type": "code",
   "execution_count": 14,
   "id": "8f7d6b60",
   "metadata": {},
   "outputs": [
    {
     "name": "stdout",
     "output_type": "stream",
     "text": [
      "Task - 1 Create a pandas dataframe (DataFrame name as 'df') (10 observation and 5 features):\n"
     ]
    },
    {
     "data": {
      "text/html": [
       "<div>\n",
       "<style scoped>\n",
       "    .dataframe tbody tr th:only-of-type {\n",
       "        vertical-align: middle;\n",
       "    }\n",
       "\n",
       "    .dataframe tbody tr th {\n",
       "        vertical-align: top;\n",
       "    }\n",
       "\n",
       "    .dataframe thead th {\n",
       "        text-align: right;\n",
       "    }\n",
       "</style>\n",
       "<table border=\"1\" class=\"dataframe\">\n",
       "  <thead>\n",
       "    <tr style=\"text-align: right;\">\n",
       "      <th></th>\n",
       "      <th>Feature1</th>\n",
       "      <th>Feature2</th>\n",
       "      <th>Feature3</th>\n",
       "      <th>Feature4</th>\n",
       "      <th>Feature5</th>\n",
       "    </tr>\n",
       "  </thead>\n",
       "  <tbody>\n",
       "    <tr>\n",
       "      <th>0</th>\n",
       "      <td>0.748304</td>\n",
       "      <td>97</td>\n",
       "      <td>A</td>\n",
       "      <td>-1.527563</td>\n",
       "      <td>5.856482</td>\n",
       "    </tr>\n",
       "    <tr>\n",
       "      <th>1</th>\n",
       "      <td>0.248094</td>\n",
       "      <td>10</td>\n",
       "      <td>D</td>\n",
       "      <td>-0.557995</td>\n",
       "      <td>4.165205</td>\n",
       "    </tr>\n",
       "    <tr>\n",
       "      <th>2</th>\n",
       "      <td>0.406439</td>\n",
       "      <td>94</td>\n",
       "      <td>A</td>\n",
       "      <td>-0.179519</td>\n",
       "      <td>8.045291</td>\n",
       "    </tr>\n",
       "    <tr>\n",
       "      <th>3</th>\n",
       "      <td>0.225914</td>\n",
       "      <td>17</td>\n",
       "      <td>B</td>\n",
       "      <td>-0.349752</td>\n",
       "      <td>2.713006</td>\n",
       "    </tr>\n",
       "    <tr>\n",
       "      <th>4</th>\n",
       "      <td>0.376724</td>\n",
       "      <td>68</td>\n",
       "      <td>D</td>\n",
       "      <td>2.011740</td>\n",
       "      <td>4.191072</td>\n",
       "    </tr>\n",
       "    <tr>\n",
       "      <th>5</th>\n",
       "      <td>0.580168</td>\n",
       "      <td>8</td>\n",
       "      <td>A</td>\n",
       "      <td>2.093561</td>\n",
       "      <td>4.026961</td>\n",
       "    </tr>\n",
       "    <tr>\n",
       "      <th>6</th>\n",
       "      <td>0.934070</td>\n",
       "      <td>78</td>\n",
       "      <td>B</td>\n",
       "      <td>0.082774</td>\n",
       "      <td>3.246853</td>\n",
       "    </tr>\n",
       "    <tr>\n",
       "      <th>7</th>\n",
       "      <td>0.688309</td>\n",
       "      <td>99</td>\n",
       "      <td>C</td>\n",
       "      <td>2.027287</td>\n",
       "      <td>1.840245</td>\n",
       "    </tr>\n",
       "    <tr>\n",
       "      <th>8</th>\n",
       "      <td>0.254716</td>\n",
       "      <td>87</td>\n",
       "      <td>D</td>\n",
       "      <td>-0.478097</td>\n",
       "      <td>5.322025</td>\n",
       "    </tr>\n",
       "    <tr>\n",
       "      <th>9</th>\n",
       "      <td>0.016913</td>\n",
       "      <td>51</td>\n",
       "      <td>C</td>\n",
       "      <td>-0.292558</td>\n",
       "      <td>8.655024</td>\n",
       "    </tr>\n",
       "  </tbody>\n",
       "</table>\n",
       "</div>"
      ],
      "text/plain": [
       "   Feature1  Feature2 Feature3  Feature4  Feature5\n",
       "0  0.748304        97        A -1.527563  5.856482\n",
       "1  0.248094        10        D -0.557995  4.165205\n",
       "2  0.406439        94        A -0.179519  8.045291\n",
       "3  0.225914        17        B -0.349752  2.713006\n",
       "4  0.376724        68        D  2.011740  4.191072\n",
       "5  0.580168         8        A  2.093561  4.026961\n",
       "6  0.934070        78        B  0.082774  3.246853\n",
       "7  0.688309        99        C  2.027287  1.840245\n",
       "8  0.254716        87        D -0.478097  5.322025\n",
       "9  0.016913        51        C -0.292558  8.655024"
      ]
     },
     "execution_count": 14,
     "metadata": {},
     "output_type": "execute_result"
    }
   ],
   "source": [
    "print(\"Task - 1 Create a pandas dataframe (DataFrame name as 'df') (10 observation and 5 features):\")\n",
    "df"
   ]
  },
  {
   "cell_type": "code",
   "execution_count": 15,
   "id": "812e5f25",
   "metadata": {},
   "outputs": [
    {
     "name": "stdout",
     "output_type": "stream",
     "text": [
      "Task 2 - Check the info of 'df':\n",
      "<class 'pandas.core.frame.DataFrame'>\n",
      "RangeIndex: 10 entries, 0 to 9\n",
      "Data columns (total 5 columns):\n",
      " #   Column    Non-Null Count  Dtype  \n",
      "---  ------    --------------  -----  \n",
      " 0   Feature1  10 non-null     float64\n",
      " 1   Feature2  10 non-null     int32  \n",
      " 2   Feature3  10 non-null     object \n",
      " 3   Feature4  10 non-null     float64\n",
      " 4   Feature5  10 non-null     float64\n",
      "dtypes: float64(3), int32(1), object(1)\n",
      "memory usage: 488.0+ bytes\n",
      "None\n"
     ]
    }
   ],
   "source": [
    "print(\"Task 2 - Check the info of 'df':\")\n",
    "print(df.info())"
   ]
  },
  {
   "cell_type": "code",
   "execution_count": 16,
   "id": "71a75366",
   "metadata": {},
   "outputs": [
    {
     "name": "stdout",
     "output_type": "stream",
     "text": [
      "\n",
      "Task 3 - Check the descriptive statistics of 'df':\n",
      "        Feature1  Feature2   Feature4   Feature5\n",
      "count  10.000000  10.00000  10.000000  10.000000\n",
      "mean    0.447965  60.90000   0.282988   4.806216\n",
      "std     0.283029  36.95177   1.284936   2.203046\n",
      "min     0.016913   8.00000  -1.527563   1.840245\n",
      "25%     0.249750  25.50000  -0.446010   3.441880\n",
      "50%     0.391582  73.00000  -0.236038   4.178138\n",
      "75%     0.661274  92.25000   1.529498   5.722868\n",
      "max     0.934070  99.00000   2.093561   8.655024\n"
     ]
    }
   ],
   "source": [
    "print(\"\\nTask 3 - Check the descriptive statistics of 'df':\")\n",
    "print(df.describe())\n"
   ]
  },
  {
   "cell_type": "code",
   "execution_count": 17,
   "id": "0ffb582e",
   "metadata": {},
   "outputs": [
    {
     "name": "stdout",
     "output_type": "stream",
     "text": [
      "\n",
      "Task 4 - check the 4th index observation with 'loc' slicing operator:\n",
      "Feature1    0.376724\n",
      "Feature2          68\n",
      "Feature3           D\n",
      "Feature4     2.01174\n",
      "Feature5    4.191072\n",
      "Name: 4, dtype: object\n"
     ]
    }
   ],
   "source": [
    "print(\"\\nTask 4 - check the 4th index observation with 'loc' slicing operator:\")\n",
    "print(df.loc[4])"
   ]
  },
  {
   "cell_type": "code",
   "execution_count": 18,
   "id": "e95b9bdc",
   "metadata": {},
   "outputs": [
    {
     "name": "stdout",
     "output_type": "stream",
     "text": [
      "\n",
      "Task 5 - Check the null values in your 'df'\n",
      "Feature1    0\n",
      "Feature2    0\n",
      "Feature3    0\n",
      "Feature4    0\n",
      "Feature5    0\n",
      "dtype: int64\n"
     ]
    }
   ],
   "source": [
    "print(\"\\nTask 5 - Check the null values in your 'df'\")\n",
    "print(df.isnull().sum())"
   ]
  },
  {
   "cell_type": "code",
   "execution_count": null,
   "id": "818233a3",
   "metadata": {},
   "outputs": [],
   "source": []
  }
 ],
 "metadata": {
  "kernelspec": {
   "display_name": "Python 3 (ipykernel)",
   "language": "python",
   "name": "python3"
  },
  "language_info": {
   "codemirror_mode": {
    "name": "ipython",
    "version": 3
   },
   "file_extension": ".py",
   "mimetype": "text/x-python",
   "name": "python",
   "nbconvert_exporter": "python",
   "pygments_lexer": "ipython3",
   "version": "3.9.12"
  }
 },
 "nbformat": 4,
 "nbformat_minor": 5
}
